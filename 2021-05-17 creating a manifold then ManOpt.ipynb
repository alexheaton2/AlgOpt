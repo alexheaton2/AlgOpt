{
 "cells": [
  {
   "cell_type": "code",
   "execution_count": 1,
   "metadata": {},
   "outputs": [],
   "source": [
    "#import Pkg; Pkg.add(\"Manifolds\")"
   ]
  },
  {
   "cell_type": "code",
   "execution_count": 2,
   "metadata": {},
   "outputs": [
    {
     "data": {
      "text/plain": [
       "3-element Vector{Float64}:\n",
       " 0.0\n",
       " 0.7071067811865475\n",
       " 0.7071067811865476"
      ]
     },
     "execution_count": 2,
     "metadata": {},
     "output_type": "execute_result"
    }
   ],
   "source": [
    "using Manifolds\n",
    "M = Sphere(2)\n",
    "γ = shortest_geodesic(M, [0., 0., 1.], [0., 1., 0.])\n",
    "γ(0.5)"
   ]
  },
  {
   "cell_type": "code",
   "execution_count": 3,
   "metadata": {},
   "outputs": [],
   "source": [
    "#Pkg.add(\"ManifoldsBase\")"
   ]
  },
  {
   "cell_type": "code",
   "execution_count": 4,
   "metadata": {},
   "outputs": [],
   "source": [
    "using ManifoldsBase, LinearAlgebra, Test\n",
    "import ManifoldsBase: check_manifold_point, check_tangent_vector, manifold_dimension, exp!"
   ]
  },
  {
   "cell_type": "markdown",
   "metadata": {},
   "source": [
    "By the way, typing `\\bbR` is the way to get $\\mathbb{R}$ in julia code."
   ]
  },
  {
   "cell_type": "code",
   "execution_count": 5,
   "metadata": {},
   "outputs": [],
   "source": [
    "using LinearAlgebra, ForwardDiff\n",
    "\n",
    "\"\"\"\n",
    "    AlgebraicSet <: Manifold{ℝ}\n",
    "\n",
    "Define an algebraic set. Construct by `AlgebraicSet(gs,d,N,tol)`\n",
    "where `gs` is a list of polynomial functions whose zeros define the algebraic set\n",
    "and `dim` is a nonnegative integer, the dimension of the algebraic set.\n",
    "Then `N` is the ambient dimension, which is the number of variables in the polynomials.\n",
    "Finally `tol` is the tolerance for checking if a point is in the algebraic set. If we\n",
    "evaluate the polynomial functions at a point, and the norm of the resulting vector of nearly zero\n",
    "entries is less than `tol`, then we judge the point to be on the algebraic set.\n",
    "\"\"\"\n",
    "\n",
    "struct AlgebraicSet <: Manifold{ManifoldsBase.ℝ}\n",
    "    eqns\n",
    "    varietydim::Int\n",
    "    ambientdim::Int\n",
    "    numeqns::Int\n",
    "    residualtol::Float64\n",
    "    f\n",
    "    df\n",
    "    f!\n",
    "end\n",
    "\n",
    "function AlgebraicSet(eqns,d::Int,N::Int,tol::Float64)\n",
    "    k = length(eqns)\n",
    "    if k==1\n",
    "        f = x -> eqns[1](x)\n",
    "        df = x -> ForwardDiff.gradient(eqns[1], x)\n",
    "    else\n",
    "        f = x -> [eqn(x) for eqn in eqns]\n",
    "        df = x -> ForwardDiff.jacobian(f, x)\n",
    "    end\n",
    "    f! = (F,x) -> begin\n",
    "        for i in 1:k\n",
    "            F[i] = eqns[i](x)\n",
    "        end\n",
    "        for i in (k+1):N\n",
    "            F[i] = 0.\n",
    "        end\n",
    "        return F\n",
    "    end\n",
    "    return AlgebraicSet(eqns,d,N,k,tol,f,df,f!)\n",
    "end\n",
    "AlgebraicSet(eqns,d::Int,N::Int) = AlgebraicSet(eqns,d,N,1e-8) # default tolerance\n",
    "\n",
    "Base.show(io::IO, M::AlgebraicSet) = print(io,\n",
    "    \"An algebraic set of dimension $(M.varietydim) with ambient dimension $(\n",
    "    M.ambientdim) defined by the $(M.numeqns) polynomials $(M.eqns).\")"
   ]
  },
  {
   "cell_type": "code",
   "execution_count": 6,
   "metadata": {},
   "outputs": [
    {
     "data": {
      "text/plain": [
       "An algebraic set of dimension 1 with ambient dimension 2 defined by the 1 polynomials [g1]."
      ]
     },
     "execution_count": 6,
     "metadata": {},
     "output_type": "execute_result"
    }
   ],
   "source": [
    "g1(x) = (x[1]^4 + x[2]^4 - 1) * (x[1]^2 + x[2]^2 - 2) + x[1]^5 * x[2]\n",
    "gs = [g1]\n",
    "dim = 1\n",
    "ambientdim = 2\n",
    "\n",
    "M = AlgebraicSet(gs,dim,ambientdim)"
   ]
  },
  {
   "cell_type": "code",
   "execution_count": 7,
   "metadata": {},
   "outputs": [
    {
     "data": {
      "text/plain": [
       "(0.0, [-4.0, 1.0])"
      ]
     },
     "execution_count": 7,
     "metadata": {},
     "output_type": "execute_result"
    }
   ],
   "source": [
    "p = [1.0; 0.0] # g1(p) = 0, so p is a point on the variety V(g1)\n",
    "X = [1.0; 4.0] # check if this is a tangent vector, yes!\n",
    "\n",
    "M.f(p), M.df(p)"
   ]
  },
  {
   "cell_type": "code",
   "execution_count": 8,
   "metadata": {},
   "outputs": [
    {
     "data": {
      "text/plain": [
       "0.0"
      ]
     },
     "execution_count": 8,
     "metadata": {},
     "output_type": "execute_result"
    }
   ],
   "source": [
    "M.df(p)'*X # dot product is zero since v is a tangent vector to p"
   ]
  },
  {
   "cell_type": "code",
   "execution_count": 9,
   "metadata": {},
   "outputs": [],
   "source": [
    "function check_manifold_point(M::AlgebraicSet, p)\n",
    "    # p is a point on the manifold\n",
    "    (size(p)) == (M.ambientdim,) || return DomainError(size(p),\"The size of $p is not $(M.ambientdim).\")\n",
    "    if norm( [eqn(p) for eqn in M.eqns] ) > M.residualtol\n",
    "        return DomainError(p,\n",
    "            \"The norm of vector of evaluations of the equations at $p is not less than $(M.residualtol).\")\n",
    "    end\n",
    "    return nothing\n",
    "end\n",
    "\n",
    "function check_tangent_vector(M::AlgebraicSet, p, X, check_base_point = true)\n",
    "    # p is a point on the manifold, X is a tangent vector\n",
    "    if check_base_point\n",
    "        mpe = check_manifold_point(M, p)\n",
    "        mpe === nothing || return mpe\n",
    "    end\n",
    "    size(X) != size(p) && return DomainError(size(X), \"The size of $X is not $(size(p)).\")\n",
    "    if M.numeqns == 1\n",
    "        if M.df(p)' * X > M.residualtol\n",
    "            return DomainError( M.df(p)' * X, \"The tangent $X is not orthogonal to $p.\")\n",
    "        end\n",
    "    else\n",
    "        if norm(M.df(p) * X) > M.residualtol\n",
    "            return DomainError( norm(M.df(p) * X), \"The tangent $X is not orthogonal to $p.\")\n",
    "        end\n",
    "    end\n",
    "    return nothing\n",
    "end;"
   ]
  },
  {
   "cell_type": "code",
   "execution_count": 10,
   "metadata": {},
   "outputs": [
    {
     "data": {
      "text/plain": [
       "false"
      ]
     },
     "execution_count": 10,
     "metadata": {},
     "output_type": "execute_result"
    }
   ],
   "source": [
    "is_manifold_point(M, randn(2)) # should be false"
   ]
  },
  {
   "cell_type": "code",
   "execution_count": 11,
   "metadata": {},
   "outputs": [
    {
     "data": {
      "text/plain": [
       "\u001b[32m\u001b[1mTest Passed\u001b[22m\u001b[39m\n",
       "      Thrown: DomainError"
      ]
     },
     "execution_count": 11,
     "metadata": {},
     "output_type": "execute_result"
    }
   ],
   "source": [
    "@test_throws DomainError is_manifold_point(M, rand(3), true) # only on R^2, throws an error."
   ]
  },
  {
   "cell_type": "code",
   "execution_count": 12,
   "metadata": {},
   "outputs": [
    {
     "data": {
      "text/plain": [
       "2-element Vector{Bool}:\n",
       " 1\n",
       " 1"
      ]
     },
     "execution_count": 12,
     "metadata": {},
     "output_type": "execute_result"
    }
   ],
   "source": [
    "# The following two tests return true\n",
    "[ is_manifold_point(M, p); is_tangent_vector(M,p,X) ]"
   ]
  },
  {
   "cell_type": "code",
   "execution_count": 13,
   "metadata": {},
   "outputs": [
    {
     "data": {
      "text/plain": [
       "1"
      ]
     },
     "execution_count": 13,
     "metadata": {},
     "output_type": "execute_result"
    }
   ],
   "source": [
    "manifold_dimension(M::AlgebraicSet) = M.varietydim\n",
    "\n",
    "manifold_dimension(M)"
   ]
  },
  {
   "cell_type": "code",
   "execution_count": 14,
   "metadata": {},
   "outputs": [
    {
     "data": {
      "text/plain": [
       "exp! (generic function with 33 methods)"
      ]
     },
     "execution_count": 14,
     "metadata": {},
     "output_type": "execute_result"
    }
   ],
   "source": [
    "using NLsolve\n",
    "\n",
    "function exp!(M::AlgebraicSet, q, p, X)\n",
    "    # mutates `q` to refer to the point on the manifold in tangent direction `X` from point `p`\n",
    "    nX = norm(X)\n",
    "    if nX == 0\n",
    "        q .= p\n",
    "    else\n",
    "        #q .= cos(nX/M.radius)*p + M.radius*sin(nX/M.radius) .* (X./nX)\n",
    "        initpt = p + X\n",
    "        result = NLsolve.nlsolve(M.f!, initpt, autodiff=:forward)\n",
    "        #println(result)\n",
    "        q .= result.zero\n",
    "    end\n",
    "    return q\n",
    "end"
   ]
  },
  {
   "cell_type": "code",
   "execution_count": 15,
   "metadata": {},
   "outputs": [
    {
     "data": {
      "text/plain": [
       "#6 (generic function with 1 method)"
      ]
     },
     "execution_count": 15,
     "metadata": {},
     "output_type": "execute_result"
    }
   ],
   "source": [
    "M.f!"
   ]
  },
  {
   "cell_type": "code",
   "execution_count": 16,
   "metadata": {},
   "outputs": [
    {
     "data": {
      "text/plain": [
       "2-element Vector{Float64}:\n",
       " 0.0024253562503633295\n",
       " 0.009701425001453318"
      ]
     },
     "execution_count": 16,
     "metadata": {},
     "output_type": "execute_result"
    }
   ],
   "source": [
    "p = [1.0; 0.0] # g1(p) = 0, so p is a point on the variety V(g1)\n",
    "X = [1.0; 4.0] # check if this is a tangent vector, yes!\n",
    "\n",
    "X = normalize(X) / 100."
   ]
  },
  {
   "cell_type": "code",
   "execution_count": 17,
   "metadata": {},
   "outputs": [
    {
     "data": {
      "text/plain": [
       "2-element Vector{Float64}:\n",
       " 1.0024565557611786\n",
       " 0.009693409861657605"
      ]
     },
     "execution_count": 17,
     "metadata": {},
     "output_type": "execute_result"
    }
   ],
   "source": [
    "q = exp(M, p, X) # takes a moment because we're using NLsolve for the first time..."
   ]
  },
  {
   "cell_type": "code",
   "execution_count": 18,
   "metadata": {},
   "outputs": [
    {
     "data": {
      "text/plain": [
       "true"
      ]
     },
     "execution_count": 18,
     "metadata": {},
     "output_type": "execute_result"
    }
   ],
   "source": [
    "is_manifold_point(M,q)"
   ]
  },
  {
   "cell_type": "code",
   "execution_count": 19,
   "metadata": {},
   "outputs": [
    {
     "data": {
      "text/plain": [
       "true"
      ]
     },
     "execution_count": 19,
     "metadata": {},
     "output_type": "execute_result"
    }
   ],
   "source": [
    "q ∈ M"
   ]
  },
  {
   "cell_type": "code",
   "execution_count": 20,
   "metadata": {},
   "outputs": [],
   "source": [
    "#import Pkg; Pkg.add(\"Manopt\")"
   ]
  },
  {
   "cell_type": "code",
   "execution_count": null,
   "metadata": {},
   "outputs": [],
   "source": [
    "#using Manifolds, Manopt\n",
    "#random_tangent(M, p, Val(:Gaussian))\n",
    "\n",
    "# the kernel dies!"
   ]
  },
  {
   "cell_type": "code",
   "execution_count": null,
   "metadata": {},
   "outputs": [],
   "source": []
  },
  {
   "cell_type": "markdown",
   "metadata": {},
   "source": [
    "Below is an example of using `NLsolve.jl` to compute solutions to nonlinear equations."
   ]
  },
  {
   "cell_type": "markdown",
   "metadata": {},
   "source": [
    "Figuring out `ForwardDiff` package..."
   ]
  },
  {
   "cell_type": "code",
   "execution_count": 34,
   "metadata": {},
   "outputs": [
    {
     "data": {
      "text/plain": [
       "0.0"
      ]
     },
     "execution_count": 34,
     "metadata": {},
     "output_type": "execute_result"
    }
   ],
   "source": [
    "using ForwardDiff\n",
    "\n",
    "p = [1.0; 0.0] # g1(p) = 0, so p is a point on the variety V(g1)\n",
    "#v = [3.0; 4.0] # check if this is a tangent vector, nope.\n",
    "v = [1.0; 4.0] # check if this is a tangent vector, yes!\n",
    "v = normalize(v)\n",
    "n1 = ForwardDiff.gradient(g1, p)\n",
    "n1'v # not zero, so v is not a tangent vector at p"
   ]
  },
  {
   "cell_type": "code",
   "execution_count": 32,
   "metadata": {},
   "outputs": [
    {
     "data": {
      "text/plain": [
       "2×3 Matrix{Float64}:\n",
       " 1.0  1.73205  0.0\n",
       " 1.0  0.0      0.0"
      ]
     },
     "execution_count": 32,
     "metadata": {},
     "output_type": "execute_result"
    }
   ],
   "source": [
    "f1(x) = x[1]^2 + x[2]^2 + x[3]^2 - 1\n",
    "f2(x) = x[1] - 0.5\n",
    "\n",
    "f(x) = [f1(x), f2(x)]\n",
    "\n",
    "df = x -> ForwardDiff.jacobian(f, x)\n",
    "\n",
    "p = [0.5, sqrt(3/4), 0.0] #f(p) gives approximately zero\n",
    "df(p)"
   ]
  },
  {
   "cell_type": "code",
   "execution_count": null,
   "metadata": {},
   "outputs": [],
   "source": []
  }
 ],
 "metadata": {
  "kernelspec": {
   "display_name": "Julia 1.6.1",
   "language": "julia",
   "name": "julia-1.6"
  },
  "language_info": {
   "file_extension": ".jl",
   "mimetype": "application/julia",
   "name": "julia",
   "version": "1.6.1"
  }
 },
 "nbformat": 4,
 "nbformat_minor": 4
}
