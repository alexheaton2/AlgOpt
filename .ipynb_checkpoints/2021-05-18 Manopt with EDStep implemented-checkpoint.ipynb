{
 "cells": [
  {
   "cell_type": "code",
   "execution_count": 1,
   "metadata": {},
   "outputs": [],
   "source": [
    "#import Pkg; Pkg.add(\"Manifolds\")"
   ]
  },
  {
   "cell_type": "code",
   "execution_count": 2,
   "metadata": {},
   "outputs": [
    {
     "data": {
      "text/plain": [
       "3-element Array{Float64,1}:\n",
       " 0.0\n",
       " 0.7071067811865475\n",
       " 0.7071067811865476"
      ]
     },
     "execution_count": 2,
     "metadata": {},
     "output_type": "execute_result"
    }
   ],
   "source": [
    "using Manifolds, Manopt\n",
    "M = Sphere(2)\n",
    "γ = shortest_geodesic(M, [0., 0., 1.], [0., 1., 0.])\n",
    "γ(0.5)"
   ]
  },
  {
   "cell_type": "code",
   "execution_count": 3,
   "metadata": {},
   "outputs": [],
   "source": [
    "#Pkg.add(\"ManifoldsBase\")"
   ]
  },
  {
   "cell_type": "code",
   "execution_count": 134,
   "metadata": {},
   "outputs": [],
   "source": [
    "using ManifoldsBase, LinearAlgebra, Test\n",
    "import ManifoldsBase: check_manifold_point, check_tangent_vector, manifold_dimension, exp!, log!, inner"
   ]
  },
  {
   "cell_type": "markdown",
   "metadata": {},
   "source": [
    "By the way, typing `\\bbR` is the way to get $\\mathbb{R}$ in julia code."
   ]
  },
  {
   "cell_type": "code",
   "execution_count": 135,
   "metadata": {},
   "outputs": [],
   "source": [
    "using LinearAlgebra, ForwardDiff, HomotopyContinuation\n",
    "\n",
    "\"\"\"\n",
    "    AlgebraicSet <: Manifold{ℝ}\n",
    "\n",
    "Define an algebraic set. Construct by `AlgebraicSet(gs,d,N,tol)`\n",
    "where `gs` is a list of polynomial functions whose zeros define the algebraic set\n",
    "and `dim` is a nonnegative integer, the dimension of the algebraic set.\n",
    "Then `N` is the ambient dimension, which is the number of variables in the polynomials.\n",
    "Finally `tol` is the tolerance for checking if a point is in the algebraic set. If we\n",
    "evaluate the polynomial functions at a point, and the norm of the resulting vector of nearly zero\n",
    "entries is less than `tol`, then we judge the point to be on the algebraic set.\n",
    "\"\"\"\n",
    "\n",
    "# N=ambient dimension. I don't know the inherent advantage of writing it this way, but this is the way it is\n",
    "# set up in ManifoldsBase, so I concurred.\n",
    "\n",
    "struct AlgebraicSet{N} <: Manifold{ManifoldsBase.ℝ} where {N}\n",
    "    eqns\n",
    "    varietydim::Int\n",
    "    numeqns::Int\n",
    "    residualtol::Float64\n",
    "    f\n",
    "    df\n",
    "    f!\n",
    "    EDSystem\n",
    "end\n",
    "\n",
    "function AlgebraicSet(eqns,d::Int,N::Int,tol::Float64)\n",
    "    k = length(eqns)\n",
    "    if k==1\n",
    "        f = x -> eqns[1](x)\n",
    "        df = x -> ForwardDiff.gradient(eqns[1], x)\n",
    "    else\n",
    "        f = x -> [eqn(x) for eqn in eqns]\n",
    "        df = x -> ForwardDiff.jacobian(f, x)\n",
    "    end\n",
    "    f! = (F,x) -> begin\n",
    "        for i in 1:k\n",
    "            F[i] = eqns[i](x)\n",
    "        end\n",
    "        for i in (k+1):N\n",
    "            F[i] = 0\n",
    "        end\n",
    "        return F\n",
    "    end\n",
    "    \n",
    "    # Initialize the EDSystem\n",
    "    HomotopyContinuation.@var varz[1:N]\n",
    "    algeqnz = [eqn(varz) for eqn in eqns]\n",
    "    HomotopyContinuation.@var u[1:N]\n",
    "    HomotopyContinuation.@var λ[1:length(algeqnz)]\n",
    "    Lagrange = Base.sum((varz-u).^2) + sum(λ.*algeqnz)\n",
    "    ∇Lagrange = HomotopyContinuation.differentiate(Lagrange, vcat(varz,λ))\n",
    "    EDSystem = HomotopyContinuation.System(∇Lagrange, variables=vcat(varz,λ), parameters=u)\n",
    "\n",
    "    return AlgebraicSet{N}(eqns,d,k,tol,f,df,f!,EDSystem)\n",
    "end\n",
    "AlgebraicSet(eqns,d::Int,N::Int) = AlgebraicSet(eqns,d,N,1e-8) # default tolerance\n",
    "\n",
    "Base.show(io::IO, M::AlgebraicSet{N}) where {N} = print(io,\n",
    "    \"An algebraic set of dimension $(M.varietydim) with ambient dimension $(\n",
    "    N) defined by the $(M.numeqns) polynomials $(M.eqns).\")"
   ]
  },
  {
   "cell_type": "code",
   "execution_count": 136,
   "metadata": {},
   "outputs": [
    {
     "data": {
      "text/plain": [
       "An algebraic set of dimension 1 with ambient dimension 2 defined by the 1 polynomials [g1]."
      ]
     },
     "execution_count": 136,
     "metadata": {},
     "output_type": "execute_result"
    }
   ],
   "source": [
    "g1(x) = (x[1]^4 + x[2]^4 - 1) * (x[1]^2 + x[2]^2 - 2) + x[1]^5 * x[2]\n",
    "gs = [g1]\n",
    "dim = 1\n",
    "ambientdim = 2\n",
    "\n",
    "M = AlgebraicSet(gs,dim,ambientdim)"
   ]
  },
  {
   "cell_type": "code",
   "execution_count": 137,
   "metadata": {},
   "outputs": [
    {
     "data": {
      "text/plain": [
       "(0.0, [-4.0, 1.0])"
      ]
     },
     "execution_count": 137,
     "metadata": {},
     "output_type": "execute_result"
    }
   ],
   "source": [
    "p = [1.0; 0.0] # g1(p) = 0, so p is a point on the variety V(g1)\n",
    "X = [1.0; 4.0] # check if this is a tangent vector, yes!\n",
    "\n",
    "M.f(p), M.df(p)"
   ]
  },
  {
   "cell_type": "code",
   "execution_count": 138,
   "metadata": {},
   "outputs": [
    {
     "data": {
      "text/plain": [
       "0.0"
      ]
     },
     "execution_count": 138,
     "metadata": {},
     "output_type": "execute_result"
    }
   ],
   "source": [
    "M.df(p)'*X # dot product is zero since v is a tangent vector to p"
   ]
  },
  {
   "cell_type": "code",
   "execution_count": 139,
   "metadata": {},
   "outputs": [],
   "source": [
    "function check_manifold_point(M::AlgebraicSet{N}, p) where{N}\n",
    "    # p is a point on the manifold\n",
    "    (size(p)) == (N,) || return DomainError(size(p),\"The size of $p is not $(M.ambientdim).\")\n",
    "    if norm( [eqn(p) for eqn in M.eqns] ) > M.residualtol\n",
    "        return DomainError(p,\n",
    "            \"The norm of vector of evaluations of the equations at $p is not less than $(M.residualtol).\")\n",
    "    end\n",
    "    return nothing\n",
    "end\n",
    "\n",
    "function check_tangent_vector(M::AlgebraicSet{N}, p, X, check_base_point = true) where {N}\n",
    "    # p is a point on the manifold, X is a tangent vector\n",
    "    if check_base_point\n",
    "        mpe = check_manifold_point(M, p)\n",
    "        mpe === nothing || return mpe\n",
    "    end\n",
    "    size(X) != size(p) && return DomainError(size(X), \"The size of $X is not $(size(p)).\")\n",
    "    if M.numeqns == 1\n",
    "        if M.df(p)' * X > M.residualtol\n",
    "            return DomainError( M.df(p)' * X, \"The tangent $X is not orthogonal to $p.\")\n",
    "        end\n",
    "    else\n",
    "        if norm(M.df(p) * X) > M.residualtol\n",
    "            return DomainError( norm(M.df(p) * X), \"The tangent $X is not orthogonal to $p.\")\n",
    "        end\n",
    "    end\n",
    "    return nothing\n",
    "end;"
   ]
  },
  {
   "cell_type": "code",
   "execution_count": 140,
   "metadata": {},
   "outputs": [
    {
     "data": {
      "text/plain": [
       "false"
      ]
     },
     "execution_count": 140,
     "metadata": {},
     "output_type": "execute_result"
    }
   ],
   "source": [
    "is_manifold_point(M, randn(2)) # should be false"
   ]
  },
  {
   "cell_type": "code",
   "execution_count": 141,
   "metadata": {},
   "outputs": [
    {
     "name": "stdout",
     "output_type": "stream",
     "text": [
      "\u001b[91m\u001b[1mTest Failed\u001b[22m\u001b[39m at \u001b[39m\u001b[1mIn[141]:1\u001b[22m\n",
      "  Expression: is_manifold_point(M, rand(3), true)\n",
      "    Expected: DomainError\n",
      "      Thrown: ErrorException\n"
     ]
    },
    {
     "ename": "LoadError",
     "evalue": "\u001b[91mThere was an error during testing\u001b[39m",
     "output_type": "error",
     "traceback": [
      "\u001b[91mThere was an error during testing\u001b[39m",
      "",
      "Stacktrace:",
      " [1] record(::Test.FallbackTestSet, ::Union{Test.Error, Test.Fail}) at C:\\buildbot\\worker\\package_win64\\build\\usr\\share\\julia\\stdlib\\v1.5\\Test\\src\\Test.jl:741",
      " [2] do_test_throws(::Test.ExecutionResult, ::Any, ::Any) at C:\\buildbot\\worker\\package_win64\\build\\usr\\share\\julia\\stdlib\\v1.5\\Test\\src\\Test.jl:604",
      " [3] top-level scope at In[141]:1",
      " [4] include_string(::Function, ::Module, ::String, ::String) at .\\loading.jl:1091"
     ]
    }
   ],
   "source": [
    "@test_throws DomainError is_manifold_point(M, rand(3), true) # only on R^2, throws an error."
   ]
  },
  {
   "cell_type": "code",
   "execution_count": 142,
   "metadata": {},
   "outputs": [
    {
     "data": {
      "text/plain": [
       "2-element Array{Bool,1}:\n",
       " 1\n",
       " 1"
      ]
     },
     "execution_count": 142,
     "metadata": {},
     "output_type": "execute_result"
    }
   ],
   "source": [
    "# The following two tests return true\n",
    "[ is_manifold_point(M, p); is_tangent_vector(M,p,X) ]"
   ]
  },
  {
   "cell_type": "code",
   "execution_count": 143,
   "metadata": {},
   "outputs": [
    {
     "data": {
      "text/plain": [
       "1"
      ]
     },
     "execution_count": 143,
     "metadata": {},
     "output_type": "execute_result"
    }
   ],
   "source": [
    "manifold_dimension(M::AlgebraicSet) = M.varietydim\n",
    "\n",
    "manifold_dimension(M)"
   ]
  },
  {
   "cell_type": "code",
   "execution_count": 147,
   "metadata": {},
   "outputs": [
    {
     "data": {
      "text/plain": [
       "inner (generic function with 34 methods)"
      ]
     },
     "execution_count": 147,
     "metadata": {},
     "output_type": "execute_result"
    }
   ],
   "source": [
    "using HomotopyContinuation, LinearAlgebra\n",
    "\n",
    "function exp!(M::AlgebraicSet{N}, q, p, X) where {N}\n",
    "    # mutates `q` to refer to the point on the manifold in tangent direction `X` from point `p`\n",
    "    check_tangent_vector(M,p,X); check_manifold_point(M,p);\n",
    "    nX = norm(X)\n",
    "    if norm(X) < 1e-12\n",
    "        q .= p\n",
    "    else\n",
    "        u0 = p\n",
    "        u1 = p+X\n",
    "        # TODO: This is redundant. We could only do this once and carry l0 on during the calculations\n",
    "        A = HomotopyContinuation.evaluate(HomotopyContinuation.differentiate(M.EDSystem.expressions, M.EDSystem.variables[N+1:end]), M.EDSystem.variables[1:N] => p)\n",
    "        l0 = A\\(-HomotopyContinuation.evaluate(HomotopyContinuation.evaluate(HomotopyContinuation.evaluate(M.EDSystem.expressions, M.EDSystem.variables[N+1:end] => [0 for _ in N+1:length(M.EDSystem.variables)]), M.EDSystem.variables[1:N] => p),  M.EDSystem.parameters=>u0))\n",
    "        # Solve the EDStep-system\n",
    "        res = HomotopyContinuation.solve( M.EDSystem, vcat(p, l0); start_parameters = u0, target_parameters = u1)\n",
    "        q.= (real_solutions(res)[1])[1:N]\n",
    "    end\n",
    "    return q\n",
    "end\n",
    "\n",
    "function log!(M::AlgebraicSet{N}, X, p, q) where {N}\n",
    "    # project q back to the tangent space of p via orthogonal projection relative to T_q(M). \n",
    "    # log is supposed to invert exp. This is done by finding the solution of N_q(M)+q ∩ T_p(V)+p (for regular p,q)\n",
    "    check_manifold_point(M,p); check_manifold_point(M,q);\n",
    "    Jsp=M.df(p)\n",
    "    Jp = Array{Float64,2}(undef, size(Jsp)[1], size(Jsp)!=(size(Jsp)[1],) ? size(Jsp)[2] : 1 )\n",
    "    size(Jsp)!=(size(Jsp)[1],) ? Jp = Jsp : Jp[:,1] = Jsp\n",
    "    Qp,_ = LinearAlgebra.qr(Jp)\n",
    "    Np = Qp[:, 1:(N - M.varietydim)] # basis of p's normal space\n",
    "    \n",
    "    Jsq=M.df(q)\n",
    "    Jq = Array{Float64,2}(undef, size(Jsq)[1], size(Jsq)!=(size(Jsq)[1],) ? size(Jsq)[2] : 1 )\n",
    "    size(Jsq)!=(size(Jsq)[1],) ? Jq = Jsq : Jq[:,1] = Jsq\n",
    "    Qq,_ = LinearAlgebra.qr(Jq)\n",
    "    Tq = Qq[:, (N - M.varietydim + 1):end] # basis of q's tangent space\n",
    "    \n",
    "    @var ambientvarz[1:N]\n",
    "    L = HomotopyContinuation.System(vcat(Np'*ambientvarz .- Np'*p, Tq'*ambientvarz .- Tq'*q))\n",
    "    # The projected tangent vector is solution - basepoint\n",
    "    res = HomotopyContinuation.solve(L)\n",
    "    X .= HomotopyContinuation.real_solutions(res)[1] .- p\n",
    "    return X\n",
    "end\n",
    "\n",
    "function inner(N::AlgebraicSet, p, X, Y)\n",
    "    # Calculate the standard inner product in T_x(M)\n",
    "    check_tangent_vector(M,p,X); check_tangent_vector(M,p,Y);\n",
    "    return(X'*Y)\n",
    "end"
   ]
  },
  {
   "cell_type": "code",
   "execution_count": 148,
   "metadata": {},
   "outputs": [
    {
     "data": {
      "text/plain": [
       "#60 (generic function with 1 method)"
      ]
     },
     "execution_count": 148,
     "metadata": {},
     "output_type": "execute_result"
    }
   ],
   "source": [
    "M.f!"
   ]
  },
  {
   "cell_type": "code",
   "execution_count": 149,
   "metadata": {},
   "outputs": [
    {
     "data": {
      "text/plain": [
       "2-element Array{Float64,1}:\n",
       " 1.0\n",
       " 4.0"
      ]
     },
     "execution_count": 149,
     "metadata": {},
     "output_type": "execute_result"
    }
   ],
   "source": [
    "p = [1.0; 0.0] # g1(p) = 0, so p is a point on the variety V(g1)\n",
    "X = [1.0; 4.0] # check if this is a tangent vector, yes!"
   ]
  },
  {
   "cell_type": "code",
   "execution_count": 150,
   "metadata": {},
   "outputs": [
    {
     "data": {
      "text/plain": [
       "2-element Array{Float64,1}:\n",
       " 0.0\n",
       " 2.7755575615628914e-17"
      ]
     },
     "metadata": {},
     "output_type": "display_data"
    },
    {
     "data": {
      "text/plain": [
       "2-element Array{Float64,1}:\n",
       " -2.6645352591003757e-14\n",
       " -1.0524914273446484e-13"
      ]
     },
     "metadata": {},
     "output_type": "display_data"
    }
   ],
   "source": [
    "# We try to see whether log(exp) = exp(log) = id\n",
    "q = exp(M, p, X)\n",
    "X0 = log(M, p, q)\n",
    "q1=exp(M,p,X0)\n",
    "display(q1-q)\n",
    "display(X0-X)"
   ]
  },
  {
   "cell_type": "code",
   "execution_count": 151,
   "metadata": {},
   "outputs": [
    {
     "data": {
      "text/plain": [
       "false"
      ]
     },
     "metadata": {},
     "output_type": "display_data"
    }
   ],
   "source": [
    "display(is_manifold_point(M,[2,0]))"
   ]
  },
  {
   "cell_type": "code",
   "execution_count": 152,
   "metadata": {},
   "outputs": [
    {
     "data": {
      "text/plain": [
       "true"
      ]
     },
     "execution_count": 152,
     "metadata": {},
     "output_type": "execute_result"
    }
   ],
   "source": [
    "q ∈ M"
   ]
  },
  {
   "cell_type": "code",
   "execution_count": 153,
   "metadata": {},
   "outputs": [],
   "source": [
    "#import Pkg; Pkg.add(\"Manopt\")"
   ]
  },
  {
   "cell_type": "code",
   "execution_count": 154,
   "metadata": {},
   "outputs": [
    {
     "data": {
      "text/plain": [
       "2-element Array{Float64,1}:\n",
       " 1.1992587924032656\n",
       " 0.22136327892641003"
      ]
     },
     "execution_count": 154,
     "metadata": {},
     "output_type": "execute_result"
    }
   ],
   "source": [
    "initialpoint = [1.0,0.0] # let this be the initial point we start with. Try to find the closest point to `u`\n",
    "u = [2.0,2.0] # find closest point on `M` to this `u`\n",
    "\n",
    "F(M,y) = sum((y[i] - u[i])^2 for i in 1:2)\n",
    "gradF(M,y) = ForwardDiff.gradient(y -> F(M,y), y)\n",
    "\n",
    "# this throws an error. Asks for `log!` to be implemented on `AlgebraicSet`\n",
    "closestpoint = gradient_descent(M, F, gradF, initialpoint)"
   ]
  },
  {
   "cell_type": "code",
   "execution_count": null,
   "metadata": {},
   "outputs": [],
   "source": []
  },
  {
   "cell_type": "markdown",
   "metadata": {},
   "source": [
    "Below is an example of using `NLsolve.jl` to compute solutions to nonlinear equations."
   ]
  },
  {
   "cell_type": "markdown",
   "metadata": {},
   "source": [
    "Figuring out `ForwardDiff` package..."
   ]
  },
  {
   "cell_type": "code",
   "execution_count": 43,
   "metadata": {},
   "outputs": [
    {
     "data": {
      "text/plain": [
       "0.0"
      ]
     },
     "execution_count": 43,
     "metadata": {},
     "output_type": "execute_result"
    }
   ],
   "source": [
    "using ForwardDiff\n",
    "\n",
    "p = [1.0; 0.0] # g1(p) = 0, so p is a point on the variety V(g1)\n",
    "#v = [3.0; 4.0] # check if this is a tangent vector, nope.\n",
    "v = [1.0; 4.0] # check if this is a tangent vector, yes!\n",
    "v = normalize(v)\n",
    "n1 = ForwardDiff.gradient(g1, p)\n",
    "n1'v # not zero, so v is not a tangent vector at p"
   ]
  },
  {
   "cell_type": "code",
   "execution_count": 44,
   "metadata": {},
   "outputs": [
    {
     "data": {
      "text/plain": [
       "2×3 Array{Float64,2}:\n",
       " 1.0  1.73205  0.0\n",
       " 1.0  0.0      0.0"
      ]
     },
     "execution_count": 44,
     "metadata": {},
     "output_type": "execute_result"
    }
   ],
   "source": [
    "f1(x) = x[1]^2 + x[2]^2 + x[3]^2 - 1\n",
    "f2(x) = x[1] - 0.5\n",
    "\n",
    "f(x) = [f1(x), f2(x)]\n",
    "\n",
    "df = x -> ForwardDiff.jacobian(f, x)\n",
    "\n",
    "p = [0.5, sqrt(3/4), 0.0] #f(p) gives approximately zero\n",
    "df(p)"
   ]
  },
  {
   "cell_type": "code",
   "execution_count": null,
   "metadata": {},
   "outputs": [],
   "source": []
  }
 ],
 "metadata": {
  "kernelspec": {
   "display_name": "Julia 1.5.4",
   "language": "julia",
   "name": "julia-1.5"
  },
  "language_info": {
   "file_extension": ".jl",
   "mimetype": "application/julia",
   "name": "julia",
   "version": "1.5.4"
  }
 },
 "nbformat": 4,
 "nbformat_minor": 4
}
